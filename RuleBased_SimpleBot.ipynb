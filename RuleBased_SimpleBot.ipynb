{
  "cells": [
    {
      "cell_type": "markdown",
      "metadata": {
        "id": "view-in-github",
        "colab_type": "text"
      },
      "source": [
        "<a href=\"https://colab.research.google.com/github/3m6d/SimpleBot/blob/main/RuleBased_SimpleBot.ipynb\" target=\"_parent\"><img src=\"https://colab.research.google.com/assets/colab-badge.svg\" alt=\"Open In Colab\"/></a>"
      ]
    },
    {
      "cell_type": "code",
      "execution_count": null,
      "metadata": {
        "id": "9Ef6Wp774FCd"
      },
      "outputs": [],
      "source": [
        "import re\n",
        "import random"
      ]
    },
    {
      "cell_type": "code",
      "execution_count": null,
      "metadata": {
        "colab": {
          "background_save": true,
          "base_uri": "https://localhost:8080/"
        },
        "id": "ndO5dj5JHOqs",
        "outputId": "9d377705-05e8-4e3f-eb57-d89c4d346143"
      },
      "outputs": [
        {
          "name": "stdout",
          "output_type": "stream",
          "text": [
            "n\n"
          ]
        }
      ],
      "source": [
        "class SimpleBot:\n",
        "  ### Potential negative response\n",
        "  negative_response = (\"no\",\"nothing\", \"nope\", \"nah\", \"naw\", \"not a chance\", \"sorry\", \" I don't want to\")\n",
        "  ### Potential positive response\n",
        "  exit_commands = (\"quit\", \"pause\", \"exit\", \"goodbye\", \"bye\", \"later\")\n",
        "  ### random starter questions which are stored in tuples. they are immutable and cannot be changed.\n",
        "  questions_about_dipawoli = (\n",
        "    \"What would you like to know about my academic background?\\n\",\n",
        "    \"Do you want to know about my work experience?\\n\",\n",
        "    \"Are you interested in learning about my education?\\n\",\n",
        "    \"Would you like to hear about my professional background?\\n\",\n",
        "    \"Do you want to know how old I am?\\n\",\n",
        "    \"Would you like to know what I do for work?\\n\"\n",
        ")\n",
        "\n",
        "  def __init__(self):\n",
        "    ### they are dictionary that stores function with the strings identification that is\n",
        "    ### used to call the function.\n",
        "    self.dipawoli = {\n",
        "      'education_intent': r'.*\\b(education|study|academic)\\b.*',\n",
        "      'age_intent': r'.*\\b(age|old)\\b.*',\n",
        "      'work_intent': r'.*\\b(work|professional)\\b.*',\n",
        "      'name_intent': r'.*\\b(name)\\b.*'\n",
        "  }\n",
        "\n",
        "\n",
        "  def greet(self):\n",
        "    self.name = input(\"What is your name?\\n\")\n",
        "    will_help = input(\n",
        "            f\"Hi {self.name}, I am Dipawoli Malla. I am here to help you learn about me.\\n\").lower()\n",
        "\n",
        "    if will_help in self.negative_response:\n",
        "      print(\"Ok, have a nice day!\")\n",
        "      return\n",
        "    else:\n",
        "      self.chat()\n",
        "\n",
        "\n",
        "  def make_exit(self, reply):\n",
        "    for command in self.exit_commands:\n",
        "      if reply == command:\n",
        "        print(\"Ok, have a nice day!\")\n",
        "        return True\n",
        "      return False\n",
        "\n",
        "  def chat(self):\n",
        "    while True:\n",
        "        reply = input (random.choice(self.questions_about_dipawoli)).lower()\n",
        "\n",
        "        if self.make_exit(reply):\n",
        "            break\n",
        "        response = self.match_reply(reply)\n",
        "        print(response)\n",
        "\n",
        "\n",
        "  def match_reply(self, reply):\n",
        "    for key, value in self.dipawoli.items():\n",
        "      intent = key #intent is the function\n",
        "      regex_pattern = value #regex is a search pattern that matches the characters with reply i.e. value\n",
        "      found_match = re.match(regex_pattern, reply)\n",
        "\n",
        "      if found_match and intent =='education_intent':\n",
        "        return self.education_intent()\n",
        "      elif found_match and intent == 'age_intent':\n",
        "        return self.age_intent()\n",
        "      elif found_match and intent == 'work_intent':\n",
        "        return self.work_intent()\n",
        "      else:\n",
        "        return self.no_match_intent()\n",
        "\n",
        "\n",
        "  def education_intent(self):\n",
        "    response = (\"I am studying Bachelors' of Science in Computing with specialization in A.I. for my undergraduate\\n\"\n",
        "                \"I studied in Alevels during my highschool\\n\",\n",
        "                \"I am currently a second year comp sci student in Islington College.\\n\",\n",
        "                \"My undergraduate course is affilated with London Met University.\\n\")\n",
        "    return random.choice(response)\n",
        "\n",
        "  def age_intent(self):\n",
        "    response = (\"I am 21 years old.\\n\",\"I just turned 21 this august.\\n\")\n",
        "    return random.choice(response)\n",
        "\n",
        "  def work_intent(self):\n",
        "    response = (\"I am a Co-founder of a tech company Baliyo Ventures that works in the field of robotics, software enginnering, product design and manufacturing.\\n\",\n",
        "                \"I worked with Asian Development Bank to develop Drainage Bot that cleans the manholes with its mechanical hand and mini bot to protect lives of sanitation workers in Nepal./n\",\n",
        "                \"I worked as an event manager in Gratia Centre for 6 months along with past experience in managing events in Rotary International.\\n\")\n",
        "    return random.choice(response)\n",
        "\n",
        "  def no_match_intent(self):\n",
        "    response = (\"What else do you want to know about me?/n\")\n",
        "    return random.choice(response)\n",
        "\n",
        "\n",
        "\n",
        "Dbot = SimpleBot()\n",
        "Dbot.greet()\n"
      ]
    }
  ],
  "metadata": {
    "colab": {
      "provenance": [],
      "authorship_tag": "ABX9TyNcN4A5hKNXI0oMS8ihhHKw",
      "include_colab_link": true
    },
    "kernelspec": {
      "display_name": "Python 3",
      "name": "python3"
    },
    "language_info": {
      "name": "python"
    }
  },
  "nbformat": 4,
  "nbformat_minor": 0
}